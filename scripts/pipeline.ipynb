{
 "cells": [
  {
   "cell_type": "markdown",
   "metadata": {
    "id": "ET0B9EDs10Bx"
   },
   "source": [
    "# Imports"
   ]
  },
  {
   "cell_type": "code",
   "execution_count": 1,
   "metadata": {
    "colab": {
     "base_uri": "https://localhost:8080/"
    },
    "id": "SU333m1mEaNP",
    "outputId": "4f5e80d8-2b8c-4a6f-c7ae-db3ef32cc038"
   },
   "outputs": [
    {
     "name": "stdout",
     "output_type": "stream",
     "text": [
      "Mounted at /content/drive\n"
     ]
    }
   ],
   "source": [
    "from google.colab import drive\n",
    "drive.mount('/content/drive')"
   ]
  },
  {
   "cell_type": "code",
   "execution_count": 2,
   "metadata": {
    "id": "OQBLA6JmZfby"
   },
   "outputs": [],
   "source": [
    "import bz2\n",
    "import json\n",
    "import time\n",
    "import pandas as pd\n",
    "from pprint import pprint"
   ]
  },
  {
   "cell_type": "code",
   "execution_count": 3,
   "metadata": {
    "id": "X7m50ue9ZAbu"
   },
   "outputs": [],
   "source": [
    "LINE_CHECKPOINT = 1e6\n",
    "ORIGINAL_DATASETS_PATH = '/content/drive/MyDrive/Quotebank/'\n",
    "SHRANK_DATASETS_PATH = '/content/drive/MyDrive/quotebank_cleaned/'\n",
    "PARQUET_PATH = '/content/drive/MyDrive/speaker_attributes.parquet'"
   ]
  },
  {
   "cell_type": "markdown",
   "metadata": {
    "id": "TX7zeVKD1Rk0"
   },
   "source": [
    "# Quotebank Data"
   ]
  },
  {
   "cell_type": "markdown",
   "metadata": {
    "id": "Q5R5R8_Q2lFR"
   },
   "source": [
    "## Example of Data\n",
    "Pretty printing a single entry as reference."
   ]
  },
  {
   "cell_type": "code",
   "execution_count": 4,
   "metadata": {
    "colab": {
     "base_uri": "https://localhost:8080/"
    },
    "id": "45MOqE051Rk6",
    "outputId": "949e7881-d7a7-4492-9f93-6cff5d8a4740"
   },
   "outputs": [
    {
     "name": "stdout",
     "output_type": "stream",
     "text": [
      "{'date': '2020-01-28 08:04:05',\n",
      " 'numOccurrences': 1,\n",
      " 'phase': 'E',\n",
      " 'probas': [['None', '0.7272'],\n",
      "            ['Prime Minister Netanyahu', '0.2445'],\n",
      "            ['Natan Sharansky', '0.0283']],\n",
      " 'qids': [],\n",
      " 'quotation': '[ D ] espite the efforts of the partners to create a '\n",
      "              'non-political award that unites the Jewish people, some have '\n",
      "              'incorrectly interpreted the participation of the Office of the '\n",
      "              'Prime Minister in the Genesis Prize as bringing a political '\n",
      "              'dimension to this important initiative,',\n",
      " 'quoteID': '2020-01-28-000082',\n",
      " 'speaker': 'None',\n",
      " 'urls': ['http://israelnationalnews.com/News/News.aspx/275210']}\n"
     ]
    }
   ],
   "source": [
    "with bz2.open('/content/drive/MyDrive/Quotebank/quotes-2020.json.bz2', 'rb') as t_file:\n",
    "    pprint(json.loads(t_file.readline()))"
   ]
  },
  {
   "cell_type": "markdown",
   "metadata": {
    "id": "li_luDaFBjN4"
   },
   "source": [
    "## Making Data Manageable\n",
    "The provided datasets contain a lot of information that is not relevant to our goal, therefore we have decided to perform a first round of pruning.\n",
    "We removed all quotations that were not assigned to any speaker, and stripped the remaining ones of `date` and `numOccurrences` fields.\n",
    "With the shrinked versions of the yearly datasets we are able to perform all following operations more swiftly."
   ]
  },
  {
   "cell_type": "code",
   "execution_count": 5,
   "metadata": {
    "id": "a4kEnTNS1Rk_"
   },
   "outputs": [],
   "source": [
    "def shrink_archive(source_path, destination_path):\n",
    "    \"\"\"Shrink the bz2 archive supplied as source_path by removing data unnecessary for the project.\n",
    "    Unnecessary data includes:\n",
    "        - all entries where the speaker has not been identified\n",
    "        - date fields. The date part can be retrieved from the ID if needed.\n",
    "        - numOccurrences field\"\"\"\n",
    "    print(\"Shrinking {} to {}\".format(source_path, destination_path))\n",
    "    with bz2.open(source_path, 'rb') as s_file:\n",
    "        with bz2.open(destination_path, 'wb') as d_file:\n",
    "            time_start = time.time()\n",
    "            for i, s_line in enumerate(s_file):\n",
    "                quote_dict = json.loads(s_line) # Load current line into py dict\n",
    "                if quote_dict['speaker'] != 'None':\n",
    "                    # If a speaker is present, shrink and save the dictionary\n",
    "                    # Remove date, can be retrieved from id if needed\n",
    "                    del quote_dict['date']\n",
    "                    del quote_dict['numOccurrences'] # Remove numOccurrances, not needed\n",
    "                    # writing in the new file\n",
    "                    d_file.write((json.dumps(quote_dict)+'\\n').encode('utf-8'))\n",
    "                if i % LINE_CHECKPOINT == 0: print(\"On line {}...\".format(i)) # Visual feedback\n",
    "    print(\"--- %s seconds ---\" % (time.time() - time_start))\n",
    "    print(\"Done, processed {} lines.\".format(i))"
   ]
  },
  {
   "cell_type": "code",
   "execution_count": null,
   "metadata": {
    "id": "Ty6iILikbdBS"
   },
   "outputs": [],
   "source": [
    "for i in range(2015, 2020):\n",
    "    path_to_file_i = '/content/drive/MyDrive/Quotebank/quotes-{}.json.bz2'.format(i)\n",
    "    path_to_file_shrank = '/content/drive/MyDrive/quotebank_cleaned/quotes-{}-shrank.json.bz2'.format(i)\n",
    "    shrink_archive(path_to_file_i, path_to_file_shrank)"
   ]
  },
  {
   "cell_type": "markdown",
   "metadata": {
    "id": "ay6-F8xSnxRA"
   },
   "source": [
    "## Benchmarking\n",
    "The following snippet shows how much time we are able to save when operating with reduced versions of the datasets."
   ]
  },
  {
   "cell_type": "code",
   "execution_count": 6,
   "metadata": {
    "id": "mDWPyzJPKNbw"
   },
   "outputs": [],
   "source": [
    "def stopwatch_dataset(source_path):\n",
    "    \"\"\"Utility function created to roughly estimate time needed to cycle through a provided dataset\"\"\"\n",
    "    print(\"Stop-watching \", source_path)\n",
    "    with bz2.open(source_path, 'rb') as s_file:\n",
    "        time_start = time.time()\n",
    "        for i, s_line in enumerate(s_file):\n",
    "            if i % LINE_CHECKPOINT == 0: print(\"On line {}...\".format(i)) # Visual feedback\n",
    "    print(\"--- %s seconds ---\" % (time.time() - time_start))"
   ]
  },
  {
   "cell_type": "code",
   "execution_count": 7,
   "metadata": {
    "colab": {
     "base_uri": "https://localhost:8080/"
    },
    "id": "5yVsNdSsoUng",
    "outputId": "0e17b673-afdc-4a18-ac8b-dc9233943d9f"
   },
   "outputs": [
    {
     "name": "stdout",
     "output_type": "stream",
     "text": [
      "Stop-watching  /content/drive/MyDrive/Quotebank/quotes-2020.json.bz2\n",
      "On line 0...\n",
      "On line 1000000...\n",
      "On line 2000000...\n",
      "On line 3000000...\n",
      "On line 4000000...\n",
      "On line 5000000...\n",
      "--- 209.15723657608032 seconds ---\n",
      "Stop-watching  /content/drive/MyDrive/quotebank_cleaned/quotes-2020-shrank.json.bz2\n",
      "On line 0...\n",
      "On line 1000000...\n",
      "On line 2000000...\n",
      "On line 3000000...\n",
      "--- 134.8744819164276 seconds ---\n"
     ]
    }
   ],
   "source": [
    "test_year = 2020\n",
    "stopwatch_dataset('{}quotes-{}.json.bz2'.format(ORIGINAL_DATASETS_PATH, test_year))\n",
    "stopwatch_dataset('{}quotes-{}-shrank.json.bz2'.format(SHRANK_DATASETS_PATH, test_year))"
   ]
  },
  {
   "cell_type": "markdown",
   "metadata": {
    "id": "eCOyzSUbUk7g"
   },
   "source": [
    "## Utility Method"
   ]
  },
  {
   "cell_type": "markdown",
   "metadata": {
    "id": "3nr5bufwo0kb"
   },
   "source": [
    "We've created an utility method to access the shrank version of datasets."
   ]
  },
  {
   "cell_type": "code",
   "execution_count": 8,
   "metadata": {
    "id": "SQOh2zepDGDM"
   },
   "outputs": [],
   "source": [
    "def load_shrank_dataset(year):\n",
    "    year = int(year)\n",
    "    if year < 2015 or year > 2020: raise ValueError(\"Provide a year between 2015 and 2020.\")\n",
    "    # Remember to close the file stream!\n",
    "    return bz2.open('{}quotes-{}-shrank.json.bz2'.format(SHRANK_DATASETS_PATH, year), 'rb')"
   ]
  },
  {
   "cell_type": "markdown",
   "metadata": {
    "id": "Qy9TG5ZJ2tpA"
   },
   "source": [
    "# Wikidata"
   ]
  },
  {
   "cell_type": "code",
   "execution_count": 9,
   "metadata": {
    "id": "afFjSgok26Pw"
   },
   "outputs": [],
   "source": [
    "wiki_df = pd.read_parquet(PARQUET_PATH)"
   ]
  },
  {
   "cell_type": "markdown",
   "metadata": {
    "id": "4nmQA4Ks1Fvx"
   },
   "source": [
    "## Data Inspection\n",
    "Here is a quick exemple on how to search/filter for a specific politician, knowing boxes contain lists, not only strings."
   ]
  },
  {
   "cell_type": "code",
   "execution_count": 10,
   "metadata": {
    "colab": {
     "base_uri": "https://localhost:8080/",
     "height": 818
    },
    "id": "vX0mtdWa1Fv3",
    "outputId": "52291a40-1a13-4acd-8708-74388661d145"
   },
   "outputs": [
    {
     "data": {
      "text/html": [
       "<div>\n",
       "<style scoped>\n",
       "    .dataframe tbody tr th:only-of-type {\n",
       "        vertical-align: middle;\n",
       "    }\n",
       "\n",
       "    .dataframe tbody tr th {\n",
       "        vertical-align: top;\n",
       "    }\n",
       "\n",
       "    .dataframe thead th {\n",
       "        text-align: right;\n",
       "    }\n",
       "</style>\n",
       "<table border=\"1\" class=\"dataframe\">\n",
       "  <thead>\n",
       "    <tr style=\"text-align: right;\">\n",
       "      <th></th>\n",
       "      <th>aliases</th>\n",
       "      <th>date_of_birth</th>\n",
       "      <th>nationality</th>\n",
       "      <th>gender</th>\n",
       "      <th>lastrevid</th>\n",
       "      <th>ethnic_group</th>\n",
       "      <th>US_congress_bio_ID</th>\n",
       "      <th>occupation</th>\n",
       "      <th>party</th>\n",
       "      <th>academic_degree</th>\n",
       "      <th>id</th>\n",
       "      <th>label</th>\n",
       "      <th>candidacy</th>\n",
       "      <th>type</th>\n",
       "      <th>religion</th>\n",
       "    </tr>\n",
       "  </thead>\n",
       "  <tbody>\n",
       "    <tr>\n",
       "      <th>3</th>\n",
       "      <td>[George Walker Bush, Bush Jr., Dubya, GWB, Bus...</td>\n",
       "      <td>[+1946-07-06T00:00:00Z]</td>\n",
       "      <td>[Q30]</td>\n",
       "      <td>[Q6581097]</td>\n",
       "      <td>1395142029</td>\n",
       "      <td>None</td>\n",
       "      <td>None</td>\n",
       "      <td>[Q82955, Q15982858, Q18814623, Q1028181, Q1408...</td>\n",
       "      <td>[Q29468]</td>\n",
       "      <td>None</td>\n",
       "      <td>Q207</td>\n",
       "      <td>George W. Bush</td>\n",
       "      <td>[Q327959, Q464075, Q3586276, Q4450587]</td>\n",
       "      <td>item</td>\n",
       "      <td>[Q329646, Q682443, Q33203]</td>\n",
       "    </tr>\n",
       "    <tr>\n",
       "      <th>11351</th>\n",
       "      <td>[Vanevar Bush]</td>\n",
       "      <td>[+1890-03-11T00:00:00Z]</td>\n",
       "      <td>[Q30]</td>\n",
       "      <td>[Q6581097]</td>\n",
       "      <td>1392187290</td>\n",
       "      <td>None</td>\n",
       "      <td>None</td>\n",
       "      <td>[Q82594, Q205375, Q82955, Q1622272, Q81096]</td>\n",
       "      <td>None</td>\n",
       "      <td>None</td>\n",
       "      <td>Q299595</td>\n",
       "      <td>Vannevar Bush</td>\n",
       "      <td>None</td>\n",
       "      <td>item</td>\n",
       "      <td>[Q55004488]</td>\n",
       "    </tr>\n",
       "    <tr>\n",
       "      <th>12327</th>\n",
       "      <td>[Prescott Sheldon Bush]</td>\n",
       "      <td>[+1895-05-15T00:00:00Z]</td>\n",
       "      <td>[Q30]</td>\n",
       "      <td>[Q6581097]</td>\n",
       "      <td>1393428512</td>\n",
       "      <td>[Q7435494]</td>\n",
       "      <td>B001167</td>\n",
       "      <td>[Q82955, Q806798, Q4416090]</td>\n",
       "      <td>[Q29468]</td>\n",
       "      <td>None</td>\n",
       "      <td>Q324742</td>\n",
       "      <td>Prescott Bush</td>\n",
       "      <td>None</td>\n",
       "      <td>item</td>\n",
       "      <td>[Q682443]</td>\n",
       "    </tr>\n",
       "    <tr>\n",
       "      <th>16876</th>\n",
       "      <td>None</td>\n",
       "      <td>[+1955-12-24T00:00:00Z]</td>\n",
       "      <td>[Q30]</td>\n",
       "      <td>[Q6581097]</td>\n",
       "      <td>1388311017</td>\n",
       "      <td>[Q49085]</td>\n",
       "      <td>None</td>\n",
       "      <td>[Q10800557, Q10798782]</td>\n",
       "      <td>None</td>\n",
       "      <td>None</td>\n",
       "      <td>Q452552</td>\n",
       "      <td>Grand L. Bush</td>\n",
       "      <td>None</td>\n",
       "      <td>item</td>\n",
       "      <td>None</td>\n",
       "    </tr>\n",
       "    <tr>\n",
       "      <th>17154</th>\n",
       "      <td>None</td>\n",
       "      <td>[+1984-06-25T00:00:00Z]</td>\n",
       "      <td>[Q30]</td>\n",
       "      <td>[Q6581072]</td>\n",
       "      <td>1392040371</td>\n",
       "      <td>None</td>\n",
       "      <td>None</td>\n",
       "      <td>[Q4610556, Q33999, Q3501317]</td>\n",
       "      <td>None</td>\n",
       "      <td>None</td>\n",
       "      <td>Q456169</td>\n",
       "      <td>Lauren Bush</td>\n",
       "      <td>None</td>\n",
       "      <td>item</td>\n",
       "      <td>None</td>\n",
       "    </tr>\n",
       "    <tr>\n",
       "      <th>20670</th>\n",
       "      <td>None</td>\n",
       "      <td>[+1970-09-20T00:00:00Z]</td>\n",
       "      <td>[Q30]</td>\n",
       "      <td>[Q6581072]</td>\n",
       "      <td>1391193823</td>\n",
       "      <td>[Q49085]</td>\n",
       "      <td>None</td>\n",
       "      <td>[Q33999, Q10800557, Q10798782]</td>\n",
       "      <td>None</td>\n",
       "      <td>None</td>\n",
       "      <td>Q536025</td>\n",
       "      <td>N'Bushe Wright</td>\n",
       "      <td>None</td>\n",
       "      <td>item</td>\n",
       "      <td>None</td>\n",
       "    </tr>\n",
       "    <tr>\n",
       "      <th>44750</th>\n",
       "      <td>[Marvin Bush, Marvin Pierce Bush]</td>\n",
       "      <td>[+1956-10-22T00:00:00Z]</td>\n",
       "      <td>[Q30]</td>\n",
       "      <td>[Q6581097]</td>\n",
       "      <td>1311310452</td>\n",
       "      <td>None</td>\n",
       "      <td>None</td>\n",
       "      <td>[Q43845]</td>\n",
       "      <td>None</td>\n",
       "      <td>None</td>\n",
       "      <td>Q1375345</td>\n",
       "      <td>Marvin P. Bush</td>\n",
       "      <td>None</td>\n",
       "      <td>item</td>\n",
       "      <td>None</td>\n",
       "    </tr>\n",
       "    <tr>\n",
       "      <th>44772</th>\n",
       "      <td>[Samuel Prescott Bush]</td>\n",
       "      <td>[+1863-10-04T00:00:00Z]</td>\n",
       "      <td>[Q30]</td>\n",
       "      <td>[Q6581097]</td>\n",
       "      <td>1373387625</td>\n",
       "      <td>None</td>\n",
       "      <td>None</td>\n",
       "      <td>[Q43845, Q131524]</td>\n",
       "      <td>None</td>\n",
       "      <td>None</td>\n",
       "      <td>Q1376227</td>\n",
       "      <td>Samuel P. Bush</td>\n",
       "      <td>None</td>\n",
       "      <td>item</td>\n",
       "      <td>None</td>\n",
       "    </tr>\n",
       "    <tr>\n",
       "      <th>45548</th>\n",
       "      <td>None</td>\n",
       "      <td>[+1869-01-20T00:00:00Z]</td>\n",
       "      <td>[Q30]</td>\n",
       "      <td>[Q6581097]</td>\n",
       "      <td>1323621663</td>\n",
       "      <td>None</td>\n",
       "      <td>None</td>\n",
       "      <td>[Q1622272, Q2504617]</td>\n",
       "      <td>None</td>\n",
       "      <td>None</td>\n",
       "      <td>Q1394511</td>\n",
       "      <td>Albert Bushnell Johnson</td>\n",
       "      <td>None</td>\n",
       "      <td>item</td>\n",
       "      <td>None</td>\n",
       "    </tr>\n",
       "    <tr>\n",
       "      <th>52576</th>\n",
       "      <td>None</td>\n",
       "      <td>[+1921-12-16T00:00:00Z]</td>\n",
       "      <td>[Q183]</td>\n",
       "      <td>[Q6581097]</td>\n",
       "      <td>1329921163</td>\n",
       "      <td>None</td>\n",
       "      <td>None</td>\n",
       "      <td>[Q9385011, Q1622272]</td>\n",
       "      <td>None</td>\n",
       "      <td>None</td>\n",
       "      <td>Q1592275</td>\n",
       "      <td>Karl-August Bushe</td>\n",
       "      <td>None</td>\n",
       "      <td>item</td>\n",
       "      <td>None</td>\n",
       "    </tr>\n",
       "  </tbody>\n",
       "</table>\n",
       "</div>"
      ],
      "text/plain": [
       "                                                 aliases  ...                    religion\n",
       "3      [George Walker Bush, Bush Jr., Dubya, GWB, Bus...  ...  [Q329646, Q682443, Q33203]\n",
       "11351                                     [Vanevar Bush]  ...                 [Q55004488]\n",
       "12327                            [Prescott Sheldon Bush]  ...                   [Q682443]\n",
       "16876                                               None  ...                        None\n",
       "17154                                               None  ...                        None\n",
       "20670                                               None  ...                        None\n",
       "44750                  [Marvin Bush, Marvin Pierce Bush]  ...                        None\n",
       "44772                             [Samuel Prescott Bush]  ...                        None\n",
       "45548                                               None  ...                        None\n",
       "52576                                               None  ...                        None\n",
       "\n",
       "[10 rows x 15 columns]"
      ]
     },
     "execution_count": 10,
     "metadata": {},
     "output_type": "execute_result"
    }
   ],
   "source": [
    "# Searching for a specific politician. Just replace the name here. Note : it is case sensitive by default. \n",
    "# Use either what is present in the aliases field or the label field. \n",
    "\n",
    "mask = wiki_df[\"label\"].str.contains(\"Bush\", regex = False, na = False)\n",
    "\n",
    "# Change number of desired results here \n",
    "wiki_df[mask][:10]"
   ]
  },
  {
   "cell_type": "markdown",
   "metadata": {
    "id": "hkjBo99n1Fv9"
   },
   "source": [
    "## Summary : available fields and infos \n",
    "- Each person is identified by an (unique? check if any duplicate) id (column id), matching the one on wikipedia\n",
    "- Label contains one specific label for this person, as it appears in wikipedia's url. \n",
    "- Aliases contain the most used names to refer to this person. Can be empty if no other than the one indicated in labels. \n",
    "- Infos are either none, or the reference of a QID article. Mostly, these references are created when a link to a referenced wikipedia elements is added in a person's wikipedia page. \n",
    "- Occupation QIDs can be relevant for us. Sample QIDs are: Q82955 - Politician, Q189290 - Military officier, Q39631 - Physician (medecine), Q30461 - President... \n",
    "- Political party is also given, if any. For congresspersons, their corresponding ID is also given. \n",
    "- No time distinction is available, i.e. if a person changed its political party (or any other attribute available here) during his life, both political parties will be indicated. "
   ]
  },
  {
   "cell_type": "markdown",
   "metadata": {
    "id": "N2nCkFW21FwA"
   },
   "source": [
    "## Issues : missing data\n",
    "- Some data are clearly missing above. George W. Bush may not be the smartest person alive, but he still holds a couple of academic degrees. For some people the degree is simply indicated as text (and not a hyperlink) in the wikipedia page, but it's not the case for all. George's biography clearly states a Bachelor of Arts as a hyperlink although we can not find it in the data set. It may be a timing issue.  \n",
    "- In consequence, let's inspect how the fields of interest for us will be impacted by missing data. "
   ]
  },
  {
   "cell_type": "markdown",
   "metadata": {
    "id": "v-N_y4aI1FwF"
   },
   "source": [
    "First, we will start by removing people born before 1900 from our dataset. There are 3 main reasons : \n",
    "- They do not truly impact how biased a news source is in reporting current events, even though we could expect conservative newspapers to cite more secessionist generals and left-wing newspapers to cite more Martin Luther King. \n",
    "- American political parties used to switch from left to right (fun fact : Lincoln was a Republican, left-wing at that time) and there were a few major older parties that disapeared today. \n",
    "- Completeness of the dataset for people born long time ago is expected to be low : there were no \"political parties\" at the time of Cesar. "
   ]
  },
  {
   "cell_type": "code",
   "execution_count": 11,
   "metadata": {
    "colab": {
     "base_uri": "https://localhost:8080/",
     "height": 493
    },
    "id": "qMqcU8351FwJ",
    "outputId": "f0ca560d-ad1a-47cf-8dd9-2ff8c689f2d3"
   },
   "outputs": [
    {
     "data": {
      "text/html": [
       "<div>\n",
       "<style scoped>\n",
       "    .dataframe tbody tr th:only-of-type {\n",
       "        vertical-align: middle;\n",
       "    }\n",
       "\n",
       "    .dataframe tbody tr th {\n",
       "        vertical-align: top;\n",
       "    }\n",
       "\n",
       "    .dataframe thead th {\n",
       "        text-align: right;\n",
       "    }\n",
       "</style>\n",
       "<table border=\"1\" class=\"dataframe\">\n",
       "  <thead>\n",
       "    <tr style=\"text-align: right;\">\n",
       "      <th></th>\n",
       "      <th>aliases</th>\n",
       "      <th>date_of_birth</th>\n",
       "      <th>nationality</th>\n",
       "      <th>gender</th>\n",
       "      <th>lastrevid</th>\n",
       "      <th>ethnic_group</th>\n",
       "      <th>US_congress_bio_ID</th>\n",
       "      <th>occupation</th>\n",
       "      <th>party</th>\n",
       "      <th>academic_degree</th>\n",
       "      <th>id</th>\n",
       "      <th>label</th>\n",
       "      <th>candidacy</th>\n",
       "      <th>type</th>\n",
       "      <th>religion</th>\n",
       "    </tr>\n",
       "  </thead>\n",
       "  <tbody>\n",
       "    <tr>\n",
       "      <th>1</th>\n",
       "      <td>[Douglas Noel Adams, Douglas Noël Adams, Dougl...</td>\n",
       "      <td>1952.0</td>\n",
       "      <td>[Q145]</td>\n",
       "      <td>[Q6581097]</td>\n",
       "      <td>1395737157</td>\n",
       "      <td>[Q7994501]</td>\n",
       "      <td>None</td>\n",
       "      <td>[Q214917, Q28389, Q6625963, Q4853732, Q1884422...</td>\n",
       "      <td>None</td>\n",
       "      <td>None</td>\n",
       "      <td>Q42</td>\n",
       "      <td>Douglas Adams</td>\n",
       "      <td>None</td>\n",
       "      <td>item</td>\n",
       "      <td>None</td>\n",
       "    </tr>\n",
       "    <tr>\n",
       "      <th>3</th>\n",
       "      <td>[George Walker Bush, Bush Jr., Dubya, GWB, Bus...</td>\n",
       "      <td>1946.0</td>\n",
       "      <td>[Q30]</td>\n",
       "      <td>[Q6581097]</td>\n",
       "      <td>1395142029</td>\n",
       "      <td>None</td>\n",
       "      <td>None</td>\n",
       "      <td>[Q82955, Q15982858, Q18814623, Q1028181, Q1408...</td>\n",
       "      <td>[Q29468]</td>\n",
       "      <td>None</td>\n",
       "      <td>Q207</td>\n",
       "      <td>George W. Bush</td>\n",
       "      <td>[Q327959, Q464075, Q3586276, Q4450587]</td>\n",
       "      <td>item</td>\n",
       "      <td>[Q329646, Q682443, Q33203]</td>\n",
       "    </tr>\n",
       "    <tr>\n",
       "      <th>5</th>\n",
       "      <td>[Augusto Pinochet Ugarte, Augusto José Ramón P...</td>\n",
       "      <td>1915.0</td>\n",
       "      <td>[Q298]</td>\n",
       "      <td>[Q6581097]</td>\n",
       "      <td>1392242213</td>\n",
       "      <td>None</td>\n",
       "      <td>None</td>\n",
       "      <td>[Q189290, Q82955]</td>\n",
       "      <td>[Q327591]</td>\n",
       "      <td>None</td>\n",
       "      <td>Q368</td>\n",
       "      <td>Augusto Pinochet</td>\n",
       "      <td>None</td>\n",
       "      <td>item</td>\n",
       "      <td>[Q1841]</td>\n",
       "    </tr>\n",
       "    <tr>\n",
       "      <th>8</th>\n",
       "      <td>[Neil Percival Young, Shakey, Godfather of Gru...</td>\n",
       "      <td>1945.0</td>\n",
       "      <td>[Q16, Q30]</td>\n",
       "      <td>[Q6581097]</td>\n",
       "      <td>1395459626</td>\n",
       "      <td>None</td>\n",
       "      <td>None</td>\n",
       "      <td>[Q177220, Q488205, Q2526255, Q639669, Q1881462...</td>\n",
       "      <td>None</td>\n",
       "      <td>None</td>\n",
       "      <td>Q633</td>\n",
       "      <td>Neil Young</td>\n",
       "      <td>None</td>\n",
       "      <td>item</td>\n",
       "      <td>None</td>\n",
       "    </tr>\n",
       "    <tr>\n",
       "      <th>9</th>\n",
       "      <td>None</td>\n",
       "      <td>1969.0</td>\n",
       "      <td>[Q183]</td>\n",
       "      <td>[Q6581097]</td>\n",
       "      <td>1340253739</td>\n",
       "      <td>None</td>\n",
       "      <td>None</td>\n",
       "      <td>[Q33231, Q41546637]</td>\n",
       "      <td>None</td>\n",
       "      <td>None</td>\n",
       "      <td>Q640</td>\n",
       "      <td>Harald Krichel</td>\n",
       "      <td>None</td>\n",
       "      <td>item</td>\n",
       "      <td>None</td>\n",
       "    </tr>\n",
       "  </tbody>\n",
       "</table>\n",
       "</div>"
      ],
      "text/plain": [
       "                                             aliases  ...                    religion\n",
       "1  [Douglas Noel Adams, Douglas Noël Adams, Dougl...  ...                        None\n",
       "3  [George Walker Bush, Bush Jr., Dubya, GWB, Bus...  ...  [Q329646, Q682443, Q33203]\n",
       "5  [Augusto Pinochet Ugarte, Augusto José Ramón P...  ...                     [Q1841]\n",
       "8  [Neil Percival Young, Shakey, Godfather of Gru...  ...                        None\n",
       "9                                               None  ...                        None\n",
       "\n",
       "[5 rows x 15 columns]"
      ]
     },
     "execution_count": 11,
     "metadata": {},
     "output_type": "execute_result"
    }
   ],
   "source": [
    "# convert the array of strings to a integer year. We keep only the year, for those born after 1900 \n",
    "def filter_date_1900(x):\n",
    "    if x is not None:\n",
    "        # we don't care about those born in before J.C (- as first character) or before 1900\n",
    "        if (x[0])[0] == \"+\" and int((x[0])[1:5]) >= 1900 :\n",
    "            return int((x[0])[1:5])\n",
    "        else: \n",
    "            return None\n",
    "\n",
    "wiki_df[\"date_of_birth\"] = wiki_df[\"date_of_birth\"].apply(lambda x: filter_date_1900(x))\n",
    "# we discard the na value. Note that this could also discard a few people that simply \n",
    "# did not had their date of birth in wikidata, but may be born afterwards. \n",
    "\n",
    "wiki_df = wiki_df.dropna(subset = [\"date_of_birth\"])\n",
    "wiki_df.head()"
   ]
  },
  {
   "cell_type": "code",
   "execution_count": 12,
   "metadata": {
    "colab": {
     "base_uri": "https://localhost:8080/"
    },
    "id": "52G29wDA1FwN",
    "outputId": "1e751ec4-66c3-4c6a-a66a-329d7b4cdeef"
   },
   "outputs": [
    {
     "name": "stdout",
     "output_type": "stream",
     "text": [
      "The proportion of people with no academic degree found is 98.1%\n"
     ]
    }
   ],
   "source": [
    "# Proportion of no academic degree or missing academic degrees. \n",
    "no_academic_found = wiki_df[wiki_df[\"academic_degree\"].isnull()].size \n",
    "print(\"The proportion of people with no academic degree found is {0:.1%}\".format(no_academic_found/wiki_df.size))"
   ]
  },
  {
   "cell_type": "code",
   "execution_count": 13,
   "metadata": {
    "colab": {
     "base_uri": "https://localhost:8080/"
    },
    "id": "nzWS3uhd1FwQ",
    "outputId": "dee1ecb3-a902-4715-97ca-1f41c74cb3a1"
   },
   "outputs": [
    {
     "name": "stdout",
     "output_type": "stream",
     "text": [
      "The proportion of people with no occupation found is 16.6%\n"
     ]
    }
   ],
   "source": [
    "# Proportion of missing occupations. \n",
    "\n",
    "no_occupation_found = wiki_df[wiki_df[\"occupation\"].isnull()].size \n",
    "print(\"The proportion of people with no occupation found is {0:.1%}\".format(no_occupation_found/wiki_df.size))"
   ]
  },
  {
   "cell_type": "markdown",
   "metadata": {
    "id": "4GRhzeC91FwT"
   },
   "source": [
    "There is clearly some issue with the academic degrees, we may not want to use this field. In terms of occupation, \"only\" 16% are missing. Here is a small exemple of such cases. "
   ]
  },
  {
   "cell_type": "code",
   "execution_count": 14,
   "metadata": {
    "colab": {
     "base_uri": "https://localhost:8080/",
     "height": 289
    },
    "id": "AzVbv5xL1FwV",
    "outputId": "3a69c1d1-aaf2-4e19-9009-f10f24083cae",
    "scrolled": true
   },
   "outputs": [
    {
     "data": {
      "text/html": [
       "<div>\n",
       "<style scoped>\n",
       "    .dataframe tbody tr th:only-of-type {\n",
       "        vertical-align: middle;\n",
       "    }\n",
       "\n",
       "    .dataframe tbody tr th {\n",
       "        vertical-align: top;\n",
       "    }\n",
       "\n",
       "    .dataframe thead th {\n",
       "        text-align: right;\n",
       "    }\n",
       "</style>\n",
       "<table border=\"1\" class=\"dataframe\">\n",
       "  <thead>\n",
       "    <tr style=\"text-align: right;\">\n",
       "      <th></th>\n",
       "      <th>aliases</th>\n",
       "      <th>date_of_birth</th>\n",
       "      <th>nationality</th>\n",
       "      <th>gender</th>\n",
       "      <th>lastrevid</th>\n",
       "      <th>ethnic_group</th>\n",
       "      <th>US_congress_bio_ID</th>\n",
       "      <th>occupation</th>\n",
       "      <th>party</th>\n",
       "      <th>academic_degree</th>\n",
       "      <th>id</th>\n",
       "      <th>label</th>\n",
       "      <th>candidacy</th>\n",
       "      <th>type</th>\n",
       "      <th>religion</th>\n",
       "    </tr>\n",
       "  </thead>\n",
       "  <tbody>\n",
       "    <tr>\n",
       "      <th>72</th>\n",
       "      <td>None</td>\n",
       "      <td>1919.0</td>\n",
       "      <td>None</td>\n",
       "      <td>[Q6581097]</td>\n",
       "      <td>1390158852</td>\n",
       "      <td>None</td>\n",
       "      <td>None</td>\n",
       "      <td>None</td>\n",
       "      <td>None</td>\n",
       "      <td>None</td>\n",
       "      <td>Q4291</td>\n",
       "      <td>Ante Bilobrk</td>\n",
       "      <td>None</td>\n",
       "      <td>item</td>\n",
       "      <td>None</td>\n",
       "    </tr>\n",
       "    <tr>\n",
       "      <th>545</th>\n",
       "      <td>None</td>\n",
       "      <td>1958.0</td>\n",
       "      <td>None</td>\n",
       "      <td>[Q6581097]</td>\n",
       "      <td>1309589591</td>\n",
       "      <td>[Q127885]</td>\n",
       "      <td>None</td>\n",
       "      <td>None</td>\n",
       "      <td>None</td>\n",
       "      <td>None</td>\n",
       "      <td>Q29830</td>\n",
       "      <td>Vukašin Šoškoćanin</td>\n",
       "      <td>None</td>\n",
       "      <td>item</td>\n",
       "      <td>None</td>\n",
       "    </tr>\n",
       "    <tr>\n",
       "      <th>604</th>\n",
       "      <td>[Greg DePalma, Gregory J. DePalma]</td>\n",
       "      <td>1932.0</td>\n",
       "      <td>None</td>\n",
       "      <td>[Q6581097]</td>\n",
       "      <td>1309589720</td>\n",
       "      <td>None</td>\n",
       "      <td>None</td>\n",
       "      <td>None</td>\n",
       "      <td>None</td>\n",
       "      <td>None</td>\n",
       "      <td>Q33371</td>\n",
       "      <td>Gregory DePalma</td>\n",
       "      <td>None</td>\n",
       "      <td>item</td>\n",
       "      <td>None</td>\n",
       "    </tr>\n",
       "    <tr>\n",
       "      <th>1030</th>\n",
       "      <td>None</td>\n",
       "      <td>1924.0</td>\n",
       "      <td>None</td>\n",
       "      <td>[Q6581097]</td>\n",
       "      <td>1390159368</td>\n",
       "      <td>None</td>\n",
       "      <td>None</td>\n",
       "      <td>None</td>\n",
       "      <td>None</td>\n",
       "      <td>None</td>\n",
       "      <td>Q53595</td>\n",
       "      <td>Pranas Brazinskas</td>\n",
       "      <td>None</td>\n",
       "      <td>item</td>\n",
       "      <td>None</td>\n",
       "    </tr>\n",
       "    <tr>\n",
       "      <th>2289</th>\n",
       "      <td>None</td>\n",
       "      <td>1922.0</td>\n",
       "      <td>[Q15180]</td>\n",
       "      <td>[Q6581097]</td>\n",
       "      <td>1327065855</td>\n",
       "      <td>None</td>\n",
       "      <td>None</td>\n",
       "      <td>None</td>\n",
       "      <td>[Q79854]</td>\n",
       "      <td>None</td>\n",
       "      <td>Q73926</td>\n",
       "      <td>Oleg Goncharenko</td>\n",
       "      <td>None</td>\n",
       "      <td>item</td>\n",
       "      <td>None</td>\n",
       "    </tr>\n",
       "  </tbody>\n",
       "</table>\n",
       "</div>"
      ],
      "text/plain": [
       "                                 aliases  date_of_birth  ...  type religion\n",
       "72                                  None         1919.0  ...  item     None\n",
       "545                                 None         1958.0  ...  item     None\n",
       "604   [Greg DePalma, Gregory J. DePalma]         1932.0  ...  item     None\n",
       "1030                                None         1924.0  ...  item     None\n",
       "2289                                None         1922.0  ...  item     None\n",
       "\n",
       "[5 rows x 15 columns]"
      ]
     },
     "execution_count": 14,
     "metadata": {},
     "output_type": "execute_result"
    }
   ],
   "source": [
    "wiki_df[wiki_df[\"occupation\"].isnull()].head()"
   ]
  },
  {
   "cell_type": "markdown",
   "metadata": {
    "id": "d_pTSYNc1FwW"
   },
   "source": [
    "Now, let's check for integrity in terms of political parties"
   ]
  },
  {
   "cell_type": "code",
   "execution_count": 15,
   "metadata": {
    "colab": {
     "base_uri": "https://localhost:8080/"
    },
    "id": "O1pDrfI21FwX",
    "outputId": "e11457a0-7b97-4aaa-d1de-cda330a2fe4f",
    "scrolled": true
   },
   "outputs": [
    {
     "name": "stdout",
     "output_type": "stream",
     "text": [
      "The proportion of people with a political party, out of the total population found is 0.0794478078133456\n"
     ]
    }
   ],
   "source": [
    "have_political_party = wiki_df[wiki_df[\"party\"].isnull()].size\n",
    "print(\"The proportion of people with a political party, out of the total population found is\", 1-have_political_party/wiki_df.size)"
   ]
  },
  {
   "cell_type": "markdown",
   "metadata": {
    "id": "vXuKUlDV1FwZ"
   },
   "source": [
    "Now we want to see how many politicians have a political party. First we have to find a right format for the occupation method. To do so, we will convert the array of strings in the \"occupation\" column to a list of strings. "
   ]
  },
  {
   "cell_type": "code",
   "execution_count": 16,
   "metadata": {
    "id": "3CQO9Dro1Fwa"
   },
   "outputs": [],
   "source": [
    "# converts an array of strings to one string \n",
    "def array_to_string(s):\n",
    "    if s is not None:\n",
    "        concat_string = \"\" \n",
    "        for elem in s: \n",
    "            concat_string += elem + \",\"\n",
    "        return concat_string \n",
    "    else: \n",
    "        return None"
   ]
  },
  {
   "cell_type": "code",
   "execution_count": 17,
   "metadata": {
    "id": "nrWcSEHU1Fwb"
   },
   "outputs": [],
   "source": [
    "wiki_df[\"occupation_str\"] = wiki_df[\"occupation\"].apply(lambda x: array_to_string(x))"
   ]
  },
  {
   "cell_type": "code",
   "execution_count": 18,
   "metadata": {
    "colab": {
     "base_uri": "https://localhost:8080/"
    },
    "id": "5dacAnjh1Fwd",
    "outputId": "bce8fdbf-82bb-4583-f7cb-24a3e065daa1"
   },
   "outputs": [
    {
     "name": "stdout",
     "output_type": "stream",
     "text": [
      "The proportion of politicians found is 9.7%\n"
     ]
    }
   ],
   "source": [
    "# we of course don't forget to set na values to a default \"False\"\n",
    "# Q82955 designates politicians\n",
    "are_politicians = wiki_df[wiki_df[\"occupation_str\"].str.contains(\"Q82955\", na = False)].size\n",
    "print(\"The proportion of politicians found is {0:.1%}\".format(are_politicians/wiki_df.size))"
   ]
  },
  {
   "cell_type": "code",
   "execution_count": 19,
   "metadata": {
    "colab": {
     "base_uri": "https://localhost:8080/"
    },
    "id": "82xYnVjg1Fwf",
    "outputId": "4493d160-038f-4a55-9c5d-f932a82dc32e"
   },
   "outputs": [
    {
     "name": "stdout",
     "output_type": "stream",
     "text": [
      "Among the politicians, the part having a political party is 96.3%\n"
     ]
    }
   ],
   "source": [
    "have_political_party = wiki_df[wiki_df[\"occupation_str\"].str.contains(\"Q82955\", na = False) & wiki_df[\"party\"].isnull()].size \n",
    "print(\"Among the politicians, the part having a political party is {0:.1%}\".format(1-have_political_party/wiki_df.size))"
   ]
  },
  {
   "cell_type": "markdown",
   "metadata": {
    "id": "1S1BAUOu1Fwg"
   },
   "source": [
    "This proportion is big enough for us to draw valid conclusions on our set. Similar proportions can be computed easily for other occupations. "
   ]
  },
  {
   "cell_type": "markdown",
   "metadata": {
    "id": "f5q-Eagf1Fwi"
   },
   "source": [
    "## Extraction"
   ]
  },
  {
   "cell_type": "markdown",
   "metadata": {
    "id": "2UdTyR3-1Fwj"
   },
   "source": [
    "We will create a dictionary containing the IDs and political parties for all persons having a political party. Note we only care about persons born after 1900. Some people could have more than one party. "
   ]
  },
  {
   "cell_type": "code",
   "execution_count": 20,
   "metadata": {
    "id": "voeSbqi71Fwk",
    "scrolled": true
   },
   "outputs": [],
   "source": [
    "dic = wiki_df[wiki_df[\"party\"].notna()].set_index(\"id\")[\"party\"].to_dict()"
   ]
  },
  {
   "cell_type": "markdown",
   "metadata": {
    "id": "gAY77L5h23gC"
   },
   "source": [
    "# Further Data Inspection\n",
    "Since our end goal will rely on which political party people that get quoted adhere to, let's analyze what properties the data has in this regard.\n",
    "\n",
    "Firstly, let's take a sample dataset (2020 shrank) and see how many people in it have a political party. For now we will analyze only those quotations that only have a single QID associated to them."
   ]
  },
  {
   "cell_type": "code",
   "execution_count": 21,
   "metadata": {
    "colab": {
     "base_uri": "https://localhost:8080/"
    },
    "id": "yzZMGbyU_G3H",
    "outputId": "57645cd5-eb98-4267-8e0c-95d720753e43"
   },
   "outputs": [
    {
     "name": "stdout",
     "output_type": "stream",
     "text": [
      "Processed 3443604 quotations.\n",
      "Out of 2511905 quotations that have only one associated QID, 789714 are from persons labeled with a political party.\n",
      "Rate: 31.4%\n"
     ]
    }
   ],
   "source": [
    "# We want to check how many of the single-QID quotations belong to a people with political parties\n",
    "num_single_qid = 0\n",
    "num_politicians = 0\n",
    "with load_shrank_dataset(2020) as input_file:\n",
    "    for i, input_line in enumerate(input_file):\n",
    "        qids = json.loads(input_line)['qids']\n",
    "        if len(qids) == 1:\n",
    "            num_single_qid += 1\n",
    "            if qids[0] in dic.keys(): num_politicians += 1\n",
    "        # if i > 1e4: break\n",
    "print(\"Processed {} quotations.\".format(i))\n",
    "print(\"Out of {} quotations that have only one associated QID, {} are from persons labeled with a political party.\".format(num_single_qid, num_politicians))\n",
    "print(\"Rate: {0:.1%}\".format(num_politicians/num_single_qid))"
   ]
  },
  {
   "cell_type": "markdown",
   "metadata": {
    "id": "VI9I0q3aLpPq"
   },
   "source": [
    "Quotations containing a list of QIDs won't be analyzed for now, because they might require some form of manual checking. We will dive deeper into how we can utilize them only if single-QIDs quotations don't provide enough information.\n",
    "One possible way to save some multi-QID quotations would be checking if all the associated QIDs adhere to the same political party. This hypothesis seems very unlikely so it will be developed only in case of need."
   ]
  },
  {
   "cell_type": "markdown",
   "metadata": {
    "id": "R9dB3zDuPkkD"
   },
   "source": [
    "# Conclusion\n",
    "\n",
    "With this initial pipeline in place, we have laid the foundation from which we will address how polarized news sources are. The shrank versions of the datasets allow us to perform large scale operations almost twice as fast, but also act as a starting point for further splitting.\n",
    "\n",
    "We have yet to decide which news sources will undergo the analysis process, so we have refrained from breaking down further our data sets. In case such operation will be needed, it will be eased thanks to the tools constructed in this pipeline."
   ]
  }
 ],
 "metadata": {
  "colab": {
   "collapsed_sections": [],
   "name": "M2_pipeline.ipynb",
   "provenance": [],
   "toc_visible": true
  },
  "kernelspec": {
   "display_name": "Python 3",
   "language": "python",
   "name": "python3"
  },
  "language_info": {
   "codemirror_mode": {
    "name": "ipython",
    "version": 3
   },
   "file_extension": ".py",
   "mimetype": "text/x-python",
   "name": "python",
   "nbconvert_exporter": "python",
   "pygments_lexer": "ipython3",
   "version": "3.8.11"
  }
 },
 "nbformat": 4,
 "nbformat_minor": 4
}
